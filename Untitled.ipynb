{
 "cells": [
  {
   "cell_type": "code",
   "execution_count": 4,
   "id": "dense-latex",
   "metadata": {},
   "outputs": [],
   "source": [
    "# Importing Required Libaries\n",
    "import tensorflow as tf\n",
    "import keras\n",
    "from keras.preprocessing.text import Tokenizer\n",
    "from keras.preprocessing.sequence import pad_sequences\n",
    "import spacy\n",
    "import nltk\n",
    "import numpy as np\n",
    "import pandas as pd\n",
    "\n",
    "# Env variables \n",
    "max_len = 200\n",
    "max_words = 5000\n",
    "\n",
    "# Loding Model \n",
    "best_model = keras.models.load_model(\"best_model2.hdf5\")\n",
    "\n"
   ]
  },
  {
   "cell_type": "code",
   "execution_count": 12,
   "id": "mobile-softball",
   "metadata": {},
   "outputs": [
    {
     "name": "stdout",
     "output_type": "stream",
     "text": [
      "['have responded if were going' 'sooo sad' 'bullying me' ...\n",
      " 'yay good for both of you' 'but it was worth it'\n",
      " 'all this flirting going on the atg smiles yay hugs']\n"
     ]
    }
   ],
   "source": [
    "from numpy import load\n",
    "# load array\n",
    "data = load('data.npy')\n",
    "# print the array\n",
    "print(data)"
   ]
  },
  {
   "cell_type": "code",
   "execution_count": 13,
   "id": "entertaining-serial",
   "metadata": {},
   "outputs": [],
   "source": [
    "# Predictions \n",
    "sentiment = ['Neutral','Negative','Positive']\n",
    "tokenizer = Tokenizer(num_words=max_words)\n",
    "tokenizer.fit_on_texts(data)\n",
    "\n"
   ]
  },
  {
   "cell_type": "code",
   "execution_count": 15,
   "id": "perceived-division",
   "metadata": {},
   "outputs": [
    {
     "name": "stdout",
     "output_type": "stream",
     "text": [
      "[[0.17502561 0.7779246  0.04704982]]\n"
     ]
    },
    {
     "data": {
      "text/plain": [
       "'Negative'"
      ]
     },
     "execution_count": 15,
     "metadata": {},
     "output_type": "execute_result"
    }
   ],
   "source": [
    "sequence = tokenizer.texts_to_sequences(['you are very bad'])\n",
    "test = pad_sequences(sequence, maxlen=max_len)\n",
    "print(best_model.predict(test))\n",
    "sentiment[np.around(best_model.predict(test), decimals=0).argmax(axis=1)[0]]"
   ]
  },
  {
   "cell_type": "code",
   "execution_count": null,
   "id": "heated-slave",
   "metadata": {},
   "outputs": [],
   "source": []
  }
 ],
 "metadata": {
  "kernelspec": {
   "display_name": "Python 3",
   "language": "python",
   "name": "python3"
  },
  "language_info": {
   "codemirror_mode": {
    "name": "ipython",
    "version": 3
   },
   "file_extension": ".py",
   "mimetype": "text/x-python",
   "name": "python",
   "nbconvert_exporter": "python",
   "pygments_lexer": "ipython3",
   "version": "3.7.9"
  }
 },
 "nbformat": 4,
 "nbformat_minor": 5
}
